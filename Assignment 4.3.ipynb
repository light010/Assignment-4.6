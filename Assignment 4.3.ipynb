{
 "cells": [
  {
   "cell_type": "markdown",
   "metadata": {},
   "source": [
    "## <u>Question</u> :-\n",
    "\n",
    "Two balls are drawn at random in succession without replacement from an urn containing 4 red balls and 6 black balls.<br>\n",
    "Find the probabilities of all the possible outcomes.?"
   ]
  },
  {
   "cell_type": "markdown",
   "metadata": {},
   "source": [
    "## <u>Answer</u> :-"
   ]
  },
  {
   "cell_type": "markdown",
   "metadata": {},
   "source": [
    "Red ball - 4<br>\n",
    "Black ball - 6<br>\n",
    "Total ball - 10<br>\n",
    "\n",
    "For drawing 2 balls at random in succession without replacement :-<br>\n",
    "all possible outcomes :-"
   ]
  },
  {
   "cell_type": "markdown",
   "metadata": {},
   "source": [
    "**1. Both Red balls :-**<br>\n",
    "$$P(R_1 \\cap R_2) = P(R_1).P(R_2 | R_1)$$\n",
    "    &emsp; &emsp; &emsp; &emsp; $$= \\frac{4}{10} \\times \\frac{3}{9} = \\frac{6}{45}$$\n"
   ]
  },
  {
   "cell_type": "markdown",
   "metadata": {},
   "source": [
    "**2. Both Black balls :-**<br>\n",
    "$$P(B_1 \\cap B_2) = P(B_1).P(B_2 | B_1)$$\n",
    "    &emsp; &emsp; &emsp; &emsp; $$= \\frac{6}{10} \\times \\frac{5}{9} = \\frac{15}{45}$$\n"
   ]
  },
  {
   "cell_type": "markdown",
   "metadata": {},
   "source": [
    "**3. first- Red, Second- Black :-**<br>\n",
    "$$P(R_1 \\cap B_1) = P(R_1).P(B_1 | R_1)$$\n",
    "    &emsp; &emsp; &emsp; &emsp; $$= \\frac{4}{10} \\times \\frac{6}{9} = \\frac{12}{45}$$\n"
   ]
  },
  {
   "cell_type": "markdown",
   "metadata": {},
   "source": [
    "**4. first- Black, Second- Red :-**<br>\n",
    "$$P(B_1 \\cap R_1) = P(B_1).P(R_1 | B_1)$$\n",
    "    &emsp; &emsp; &emsp; &emsp; $$= \\frac{6}{10} \\times \\frac{4}{9} = \\frac{12}{45}$$\n"
   ]
  },
  {
   "cell_type": "code",
   "execution_count": null,
   "metadata": {
    "collapsed": true
   },
   "outputs": [],
   "source": []
  }
 ],
 "metadata": {
  "kernelspec": {
   "display_name": "Python 3",
   "language": "python",
   "name": "python3"
  },
  "language_info": {
   "codemirror_mode": {
    "name": "ipython",
    "version": 3
   },
   "file_extension": ".py",
   "mimetype": "text/x-python",
   "name": "python",
   "nbconvert_exporter": "python",
   "pygments_lexer": "ipython3",
   "version": "3.6.3"
  }
 },
 "nbformat": 4,
 "nbformat_minor": 2
}
